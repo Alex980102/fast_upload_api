{
 "cells": [
  {
   "cell_type": "code",
   "execution_count": 5,
   "metadata": {},
   "outputs": [
    {
     "name": "stdout",
     "output_type": "stream",
     "text": [
      "El valor es mayor a 500\n",
      "El valor es mayor a 500\n",
      "despues del for 1\n",
      "despues del for 1\n",
      "despues del for 1\n",
      "despues del for 1\n",
      "despues del for 1\n",
      "despues del for 1\n",
      "despues del for 1\n",
      "despues del for 1\n",
      "El valor es mayor a 500\n",
      "despues del for 1\n",
      "despues del for 1\n",
      "despues del for 1\n",
      "despues del for 1\n",
      "El valor es mayor a 500\n",
      "El valor es mayor a 500\n",
      "El valor es mayor a 500\n",
      "El valor es mayor a 500\n",
      "El valor es mayor a 500\n",
      "El valor es mayor a 500\n",
      "El valor es mayor a 500\n",
      "El valor es mayor a 500\n",
      "El valor es mayor a 500\n",
      "El valor es mayor a 500\n",
      "El valor es mayor a 500\n",
      "El valor es mayor a 500\n",
      "despues del for 1\n",
      "despues del for 1\n",
      "despues del for 1\n",
      "despues del for 1\n",
      "despues del for 1\n",
      "despues del for 1\n",
      "despues del for 1\n",
      "despues del for 1\n",
      "El valor es mayor a 500\n",
      "despues del for 1\n",
      "despues del for 1\n",
      "despues del for 1\n",
      "despues del for 1\n",
      "despues del for 1\n",
      "despues del for 1\n",
      "despues del for 1\n",
      "despues del for 1\n",
      "despues del for 1\n",
      "despues del for 1\n",
      "despues del for 1\n",
      "despues del for 1\n",
      "El valor es mayor a 500\n",
      "despues del for 1\n",
      "despues del for 1\n",
      "despues del for 1\n",
      "despues del for 1\n",
      "despues del for 1\n",
      "despues del for 1\n",
      "despues del for 1\n",
      "despues del for 1\n",
      "El valor es mayor a 500\n",
      "El valor es mayor a 500\n",
      "El valor es mayor a 500\n",
      "El valor es mayor a 500\n",
      "El valor es mayor a 500\n",
      "El valor es mayor a 500\n",
      "despues del for 1\n",
      "despues del for 1\n",
      "despues del for 1\n",
      "despues del for 1\n",
      "despues del for 1\n",
      "despues del for 1\n",
      "despues del for 1\n",
      "despues del for 1\n",
      "despues del for 1\n",
      "despues del for 1\n",
      "despues del for 1\n",
      "despues del for 1\n",
      "despues del for 1\n",
      "despues del for 1\n",
      "despues del for 1\n",
      "despues del for 1\n",
      "despues del for 1\n",
      "despues del for 1\n",
      "despues del for 1\n",
      "despues del for 1\n",
      "despues del for 1\n",
      "despues del for 1\n",
      "despues del for 1\n",
      "despues del for 1\n",
      "despues del for 1\n",
      "despues del for 1\n",
      "despues del for 1\n",
      "despues del for 1\n",
      "El valor es mayor a 500\n",
      "despues del for 1\n",
      "despues del for 1\n",
      "despues del for 1\n",
      "despues del for 1\n",
      "despues del for 1\n",
      "despues del for 1\n",
      "despues del for 1\n",
      "despues del for 1\n",
      "despues del for 1\n",
      "despues del for 1\n",
      "despues del for 1\n",
      "despues del for 1\n"
     ]
    }
   ],
   "source": [
    "import random\n",
    "for i in range(20):\n",
    "    random_value =random.randint(0, 1000)\n",
    "    bool_value = True\n",
    "    while (bool_value):\n",
    "        if (random_value > 500):\n",
    "            random_value =random.randint(0, 1000)\n",
    "            print('El valor es mayor a 500')\n",
    "        else:\n",
    "            bool_value = False\n",
    "    print('despues del for 1')\n",
    "    print('despues del for 1')\n",
    "    print('despues del for 1')\n",
    "    print('despues del for 1')"
   ]
  },
  {
   "cell_type": "code",
   "execution_count": 7,
   "metadata": {},
   "outputs": [
    {
     "name": "stdout",
     "output_type": "stream",
     "text": [
      "[{'_id': '6387fd415aef67b3834f3214', 'botProcessId': 'ca57c498-c991-4e77-9b66-c2d34f55fa3e', 'port': 3001, 'status': 'ready', 'pm2_name': 'api-3001', 'path': '/Users/alejandro/DevProjects/Github/whats_main/dist/botprocess/../../../api-3001', 'createdAt': '2022-12-01T01:02:57.264Z', 'updatedAt': '2022-12-01T01:05:57.925Z', '__v': 0}, {'_id': '6387fe335aef67b3834fa793', 'botProcessId': '0c3b5461-bf43-4feb-b913-5e942ce48c52', 'port': 3002, 'status': 'qr', 'pm2_name': 'api-3002', 'path': '/Users/alejandro/DevProjects/Github/whats_main/dist/botprocess/../../../api-3002', 'createdAt': '2022-12-01T01:06:59.295Z', 'updatedAt': '2022-12-01T01:16:25.055Z', '__v': 0}]\n"
     ]
    }
   ],
   "source": [
    "import pandas as pd\n",
    "import requests\n",
    "import json\n",
    "\n",
    "ports_to_send = json.loads(requests.get('http://localhost:3000/api/botprocess').content)\n",
    "ports_to_send_df = pd.DataFrame.from_records(ports_to_send)\n",
    "print(ports_to_send)"
   ]
  },
  {
   "cell_type": "code",
   "execution_count": null,
   "metadata": {},
   "outputs": [],
   "source": []
  }
 ],
 "metadata": {
  "kernelspec": {
   "display_name": "Python 3.9.13 ('base')",
   "language": "python",
   "name": "python3"
  },
  "language_info": {
   "codemirror_mode": {
    "name": "ipython",
    "version": 3
   },
   "file_extension": ".py",
   "mimetype": "text/x-python",
   "name": "python",
   "nbconvert_exporter": "python",
   "pygments_lexer": "ipython3",
   "version": "3.9.13"
  },
  "orig_nbformat": 4,
  "vscode": {
   "interpreter": {
    "hash": "3a7bd92ff224df1d58a89253c43523075084358f9c12e45ecac364d76680b4a4"
   }
  }
 },
 "nbformat": 4,
 "nbformat_minor": 2
}
